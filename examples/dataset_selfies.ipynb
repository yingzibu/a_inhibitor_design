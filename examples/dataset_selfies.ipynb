{
  "nbformat": 4,
  "nbformat_minor": 0,
  "metadata": {
    "colab": {
      "provenance": [],
      "authorship_tag": "ABX9TyPKHgChlUD0+hoTBIDvYQlw",
      "include_colab_link": true
    },
    "kernelspec": {
      "name": "python3",
      "display_name": "Python 3"
    },
    "language_info": {
      "name": "python"
    }
  },
  "cells": [
    {
      "cell_type": "markdown",
      "metadata": {
        "id": "view-in-github",
        "colab_type": "text"
      },
      "source": [
        "<a href=\"https://colab.research.google.com/github/yingzibu/a_inhibitor_design/blob/main/examples/dataset_selfies.ipynb\" target=\"_parent\"><img src=\"https://colab.research.google.com/assets/colab-badge.svg\" alt=\"Open In Colab\"/></a>"
      ]
    },
    {
      "cell_type": "markdown",
      "source": [
        "Dataset conversion (SELFIES)"
      ],
      "metadata": {
        "id": "biE94NGVjDqF"
      }
    },
    {
      "cell_type": "code",
      "source": [
        "cd /content"
      ],
      "metadata": {
        "colab": {
          "base_uri": "https://localhost:8080/"
        },
        "id": "JGB1jM36hNsD",
        "outputId": "bda89374-1dcf-4a15-bf86-6c0c516796a8"
      },
      "execution_count": 1,
      "outputs": [
        {
          "output_type": "stream",
          "name": "stdout",
          "text": [
            "/content\n"
          ]
        }
      ]
    },
    {
      "cell_type": "code",
      "execution_count": 18,
      "metadata": {
        "colab": {
          "base_uri": "https://localhost:8080/"
        },
        "id": "QTZI0pAYfhI_",
        "outputId": "d403262e-025f-4fd8-9fad-d73b5a8f99ea"
      },
      "outputs": [
        {
          "output_type": "stream",
          "name": "stdout",
          "text": [
            "Cloning into 'a_inhibitor_design'...\n",
            "remote: Enumerating objects: 107, done.\u001b[K\n",
            "remote: Counting objects: 100% (107/107), done.\u001b[K\n",
            "remote: Compressing objects: 100% (102/102), done.\u001b[K\n",
            "remote: Total 107 (delta 29), reused 0 (delta 0), pack-reused 0\u001b[K\n",
            "Receiving objects: 100% (107/107), 215.42 KiB | 1.49 MiB/s, done.\n",
            "Resolving deltas: 100% (29/29), done.\n"
          ]
        }
      ],
      "source": [
        "!rm -R 'a_inhibitor_design'\n",
        "! git clone https://github.com/yingzibu/a_inhibitor_design.git"
      ]
    },
    {
      "cell_type": "code",
      "source": [
        "cd a_inhibitor_design"
      ],
      "metadata": {
        "colab": {
          "base_uri": "https://localhost:8080/"
        },
        "id": "fuTAdY4dfsyd",
        "outputId": "5b674474-bfd1-419b-d6db-5cf1f59099bd"
      },
      "execution_count": 2,
      "outputs": [
        {
          "output_type": "stream",
          "name": "stdout",
          "text": [
            "/content/a_inhibitor_design\n"
          ]
        }
      ]
    },
    {
      "cell_type": "code",
      "source": [
        "! pip install selfies --quiet"
      ],
      "metadata": {
        "id": "ovG8qjXbgEXh"
      },
      "execution_count": 8,
      "outputs": []
    },
    {
      "cell_type": "code",
      "source": [
        "from data.tokenizer_selfies import SmilesToSelfies\n",
        "import pandas as pd\n",
        "\n",
        "data = pd.read_csv('/content/a_inhibitor_design/data/jak_smiles.csv')\n",
        "print(data.head())\n",
        "\n",
        "# Converting smiles to selfies\n",
        "selfies_df = SmilesToSelfies(data.Smiles)\n",
        "print(selfies_df.head())\n",
        "print(selfies_df.shape)\n"
      ],
      "metadata": {
        "colab": {
          "base_uri": "https://localhost:8080/"
        },
        "id": "IReaBL16ftH-",
        "outputId": "b8591899-9180-4b46-bf89-ada9aff50dfc"
      },
      "execution_count": 4,
      "outputs": [
        {
          "output_type": "stream",
          "name": "stdout",
          "text": [
            "                                              Smiles\n",
            "0  [2H]C([2H])([2H])N=C(O)c1cnc(N=C(O)C2CC2)cc1Nc...\n",
            "1  [2H]C([2H])([2H])NC(=O)c1cnc(NC(=O)C2CC2)cc1Nc...\n",
            "2  [2H]C([2H])([2H])NC(=O)c1n[nH]c(=NC(=O)C2CC2)c...\n",
            "3  [2H]C([2H])([2H])NC(=O)c1n[nH]c(=Nc2ccc(F)cn2)...\n",
            "4  [2H]C([2H])([2H])NC(=O)c1nnc(NC(=O)C2CC2)cc1Nc...\n"
          ]
        },
        {
          "output_type": "stream",
          "name": "stderr",
          "text": [
            "100%|██████████| 25739/25739 [00:46<00:00, 554.88it/s]\n"
          ]
        },
        {
          "output_type": "execute_result",
          "data": {
            "text/plain": [
              "(                                             Selfies\n",
              " 0  [2H][C][Branch1][C][2H][Branch1][C][2H][N][=C]...\n",
              " 1  [2H][C][Branch1][C][2H][Branch1][C][2H][N][C][...\n",
              " 2  [2H][C][Branch1][C][2H][Branch1][C][2H][N][C][...\n",
              " 3  [2H][C][Branch1][C][2H][Branch1][C][2H][N][C][...\n",
              " 4  [2H][C][Branch1][C][2H][Branch1][C][2H][N][C][...,\n",
              " (25739, 1))"
            ]
          },
          "metadata": {},
          "execution_count": 4
        }
      ]
    },
    {
      "cell_type": "code",
      "source": [
        "from data.tokenizer_selfies import SelfiesToDataset\n",
        "\n",
        "MAX_LEN = 120\n",
        "print('define the max len of dataset')\n",
        "dict_ = SelfiesToDataset(selfies_df, max_len=120, savename='test.pt')"
      ],
      "metadata": {
        "colab": {
          "base_uri": "https://localhost:8080/"
        },
        "id": "W455ZmZZfwuT",
        "outputId": "f31e8f5e-c09f-417d-84cf-3eb9680196bf"
      },
      "execution_count": 5,
      "outputs": [
        {
          "output_type": "stream",
          "name": "stdout",
          "text": [
            "len alphabet:  59\n",
            "max len in dataset: 109\n"
          ]
        },
        {
          "output_type": "stream",
          "name": "stderr",
          "text": [
            "100%|██████████| 25739/25739 [00:13<00:00, 1894.29it/s]\n"
          ]
        },
        {
          "output_type": "stream",
          "name": "stdout",
          "text": [
            "dataset saved at: test.pt\n"
          ]
        }
      ]
    },
    {
      "cell_type": "code",
      "source": [
        "dict_.keys()"
      ],
      "metadata": {
        "colab": {
          "base_uri": "https://localhost:8080/"
        },
        "id": "YN2UmG-2iMMp",
        "outputId": "6fe4f93d-be36-4610-a328-209e0ae238ab"
      },
      "execution_count": 6,
      "outputs": [
        {
          "output_type": "execute_result",
          "data": {
            "text/plain": [
              "dict_keys(['labels', 'one_hots', 'alphabet'])"
            ]
          },
          "metadata": {},
          "execution_count": 6
        }
      ]
    },
    {
      "cell_type": "code",
      "source": [
        "print('onehot vector shape [len_drug, max_len]: ', dict_['labels'].shape)\n",
        "print('onehot matrix shape [len_drug, max_len, len_alphabet]: ',\n",
        "      dict_['one_hots'].shape)\n",
        "print('selfies alphabet len: ', len(dict_['alphabet']))"
      ],
      "metadata": {
        "colab": {
          "base_uri": "https://localhost:8080/"
        },
        "id": "kBg65UDmiNtQ",
        "outputId": "26bd78ba-0c8a-44ca-901c-3e1beef3515d"
      },
      "execution_count": 9,
      "outputs": [
        {
          "output_type": "stream",
          "name": "stdout",
          "text": [
            "onehot vector shape [len_drug, max_len]:  torch.Size([25739, 120])\n",
            "onehot matrix shape [len_drug, max_len, len_alphabet]:  torch.Size([25739, 120, 59])\n",
            "selfies alphabet len:  59\n"
          ]
        }
      ]
    }
  ]
}