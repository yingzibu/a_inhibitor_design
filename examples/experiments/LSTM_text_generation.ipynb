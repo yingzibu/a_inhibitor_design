{
  "nbformat": 4,
  "nbformat_minor": 0,
  "metadata": {
    "colab": {
      "provenance": [],
      "machine_shape": "hm",
      "gpuType": "T4",
      "authorship_tag": "ABX9TyN6h3Ao4KaPlhKR44zUEE0S",
      "include_colab_link": true
    },
    "kernelspec": {
      "name": "python3",
      "display_name": "Python 3"
    },
    "language_info": {
      "name": "python"
    },
    "accelerator": "GPU"
  },
  "cells": [
    {
      "cell_type": "markdown",
      "metadata": {
        "id": "view-in-github",
        "colab_type": "text"
      },
      "source": [
        "<a href=\"https://colab.research.google.com/github/yingzibu/a_inhibitor_design/blob/main/examples/experiments/LSTM_text_generation.ipynb\" target=\"_parent\"><img src=\"https://colab.research.google.com/assets/colab-badge.svg\" alt=\"Open In Colab\"/></a>"
      ]
    },
    {
      "cell_type": "code",
      "execution_count": null,
      "metadata": {
        "colab": {
          "base_uri": "https://localhost:8080/"
        },
        "id": "aGPSf5_VIeu8",
        "outputId": "9b8406ff-8f0f-46f6-dea5-b8eb20d79987"
      },
      "outputs": [
        {
          "output_type": "stream",
          "name": "stdout",
          "text": [
            "Total Characters:  164093\n",
            "Total Vocab:  65\n",
            "Total Patterns:  163993\n",
            "Epoch 0: Cross-entropy: 437746.6250\n",
            "Epoch 1: Cross-entropy: 404203.5312\n",
            "Epoch 2: Cross-entropy: 377130.8125\n",
            "Epoch 3: Cross-entropy: 358123.3125\n",
            "Epoch 4: Cross-entropy: 339874.5312\n",
            "Epoch 5: Cross-entropy: 326531.5625\n",
            "Epoch 6: Cross-entropy: 312470.2500\n",
            "Epoch 7: Cross-entropy: 310198.8750\n",
            "Epoch 8: Cross-entropy: 300224.6562\n",
            "Epoch 9: Cross-entropy: 295012.7500\n",
            "Epoch 10: Cross-entropy: 282412.5000\n",
            "Epoch 11: Cross-entropy: 274227.4688\n",
            "Epoch 12: Cross-entropy: 278698.2188\n",
            "Epoch 13: Cross-entropy: 265955.4062\n",
            "Epoch 14: Cross-entropy: 257718.2812\n",
            "Epoch 15: Cross-entropy: 254925.1406\n",
            "Epoch 16: Cross-entropy: 251602.4062\n",
            "Epoch 17: Cross-entropy: 245785.7031\n",
            "Epoch 18: Cross-entropy: 246324.1875\n",
            "Epoch 19: Cross-entropy: 239376.0625\n",
            "Epoch 20: Cross-entropy: 239084.9219\n",
            "Epoch 21: Cross-entropy: 231531.5781\n",
            "Epoch 22: Cross-entropy: 229064.5938\n",
            "Epoch 23: Cross-entropy: 227330.9531\n",
            "Epoch 24: Cross-entropy: 221778.4688\n",
            "Epoch 25: Cross-entropy: 220678.2969\n",
            "Epoch 26: Cross-entropy: 222365.6562\n",
            "Epoch 27: Cross-entropy: 221843.1250\n",
            "Epoch 28: Cross-entropy: 217041.4062\n",
            "Epoch 29: Cross-entropy: 212577.0469\n",
            "Epoch 30: Cross-entropy: 210289.9531\n",
            "Epoch 31: Cross-entropy: 208149.6406\n",
            "Epoch 32: Cross-entropy: 206040.2500\n",
            "Epoch 33: Cross-entropy: 203726.5156\n",
            "Epoch 34: Cross-entropy: 201213.2500\n",
            "Epoch 35: Cross-entropy: 199187.9531\n",
            "Epoch 36: Cross-entropy: 200688.8125\n",
            "Epoch 37: Cross-entropy: 199242.2031\n",
            "Epoch 38: Cross-entropy: 200680.5781\n",
            "Epoch 39: Cross-entropy: 195580.8750\n"
          ]
        },
        {
          "output_type": "error",
          "ename": "FileNotFoundError",
          "evalue": "ignored",
          "traceback": [
            "\u001b[0;31m---------------------------------------------------------------------------\u001b[0m",
            "\u001b[0;31mFileNotFoundError\u001b[0m                         Traceback (most recent call last)",
            "\u001b[0;32m<ipython-input-3-1cf709d4ed3e>\u001b[0m in \u001b[0;36m<cell line: 96>\u001b[0;34m()\u001b[0m\n\u001b[1;32m     94\u001b[0m \u001b[0mfilename\u001b[0m \u001b[0;34m=\u001b[0m \u001b[0;34m\"wonderland.txt\"\u001b[0m\u001b[0;34m\u001b[0m\u001b[0;34m\u001b[0m\u001b[0m\n\u001b[1;32m     95\u001b[0m \u001b[0mseq_length\u001b[0m \u001b[0;34m=\u001b[0m \u001b[0;36m100\u001b[0m\u001b[0;34m\u001b[0m\u001b[0;34m\u001b[0m\u001b[0m\n\u001b[0;32m---> 96\u001b[0;31m \u001b[0mraw_text\u001b[0m \u001b[0;34m=\u001b[0m \u001b[0mopen\u001b[0m\u001b[0;34m(\u001b[0m\u001b[0mfilename\u001b[0m\u001b[0;34m,\u001b[0m \u001b[0;34m'r'\u001b[0m\u001b[0;34m,\u001b[0m \u001b[0mencoding\u001b[0m\u001b[0;34m=\u001b[0m\u001b[0;34m'utf-8'\u001b[0m\u001b[0;34m)\u001b[0m\u001b[0;34m.\u001b[0m\u001b[0mread\u001b[0m\u001b[0;34m(\u001b[0m\u001b[0;34m)\u001b[0m\u001b[0;34m\u001b[0m\u001b[0;34m\u001b[0m\u001b[0m\n\u001b[0m\u001b[1;32m     97\u001b[0m \u001b[0mraw_text\u001b[0m \u001b[0;34m=\u001b[0m \u001b[0mraw_text\u001b[0m\u001b[0;34m.\u001b[0m\u001b[0mlower\u001b[0m\u001b[0;34m(\u001b[0m\u001b[0;34m)\u001b[0m\u001b[0;34m\u001b[0m\u001b[0;34m\u001b[0m\u001b[0m\n\u001b[1;32m     98\u001b[0m \u001b[0mstart\u001b[0m \u001b[0;34m=\u001b[0m \u001b[0mnp\u001b[0m\u001b[0;34m.\u001b[0m\u001b[0mrandom\u001b[0m\u001b[0;34m.\u001b[0m\u001b[0mrandint\u001b[0m\u001b[0;34m(\u001b[0m\u001b[0;36m0\u001b[0m\u001b[0;34m,\u001b[0m \u001b[0mlen\u001b[0m\u001b[0;34m(\u001b[0m\u001b[0mraw_text\u001b[0m\u001b[0;34m)\u001b[0m\u001b[0;34m-\u001b[0m\u001b[0mseq_length\u001b[0m\u001b[0;34m)\u001b[0m\u001b[0;34m\u001b[0m\u001b[0;34m\u001b[0m\u001b[0m\n",
            "\u001b[0;31mFileNotFoundError\u001b[0m: [Errno 2] No such file or directory: 'wonderland.txt'"
          ]
        }
      ],
      "source": [
        "import numpy as np\n",
        "import torch\n",
        "import torch.nn as nn\n",
        "import torch.optim as optim\n",
        "import torch.utils.data as data\n",
        "\n",
        "# load ascii text and covert to lowercase\n",
        "filename = '/content/pg11.txt'\n",
        "raw_text = open(filename, 'r', encoding='utf-8').read()\n",
        "raw_text = raw_text.lower()\n",
        "\n",
        "# create mapping of unique chars to integers\n",
        "chars = sorted(list(set(raw_text)))\n",
        "char_to_int = dict((c, i) for i, c in enumerate(chars))\n",
        "\n",
        "# summarize the loaded data\n",
        "n_chars = len(raw_text)\n",
        "n_vocab = len(chars)\n",
        "print(\"Total Characters: \", n_chars)\n",
        "print(\"Total Vocab: \", n_vocab)\n",
        "\n",
        "# prepare the dataset of input to output pairs encoded as integers\n",
        "seq_length = 100\n",
        "dataX = []\n",
        "dataY = []\n",
        "for i in range(0, n_chars - seq_length, 1):\n",
        "    seq_in = raw_text[i:i + seq_length]\n",
        "    seq_out = raw_text[i + seq_length]\n",
        "    dataX.append([char_to_int[char] for char in seq_in])\n",
        "    dataY.append(char_to_int[seq_out])\n",
        "n_patterns = len(dataX)\n",
        "print(\"Total Patterns: \", n_patterns)\n",
        "\n",
        "# reshape X to be [samples, time steps, features]\n",
        "X = torch.tensor(dataX, dtype=torch.float32).reshape(n_patterns, seq_length, 1)\n",
        "X = X / float(n_vocab)\n",
        "y = torch.tensor(dataY)\n",
        "\n",
        "class CharModel(nn.Module):\n",
        "    def __init__(self):\n",
        "        super().__init__()\n",
        "        self.lstm = nn.LSTM(input_size=1, hidden_size=256, num_layers=2, batch_first=True, dropout=0.2)\n",
        "        self.dropout = nn.Dropout(0.2)\n",
        "        self.linear = nn.Linear(256, n_vocab)\n",
        "    def forward(self, x):\n",
        "        x, _ = self.lstm(x)\n",
        "        # take only the last output\n",
        "        x = x[:, -1, :]\n",
        "        # produce output\n",
        "        x = self.linear(self.dropout(x))\n",
        "        return x\n",
        "\n",
        "n_epochs = 40\n",
        "batch_size = 128\n",
        "model = CharModel()\n",
        "device = torch.device(\"cuda:0\" if torch.cuda.is_available() else \"cpu\")\n",
        "model.to(device)\n",
        "\n",
        "optimizer = optim.Adam(model.parameters())\n",
        "loss_fn = nn.CrossEntropyLoss(reduction=\"sum\")\n",
        "loader = data.DataLoader(data.TensorDataset(X, y), shuffle=True, batch_size=batch_size)\n",
        "\n",
        "best_model = None\n",
        "best_loss = np.inf\n",
        "for epoch in range(n_epochs):\n",
        "    model.train()\n",
        "    for X_batch, y_batch in loader:\n",
        "        y_pred = model(X_batch.to(device))\n",
        "        loss = loss_fn(y_pred, y_batch.to(device))\n",
        "        optimizer.zero_grad()\n",
        "        loss.backward()\n",
        "        optimizer.step()\n",
        "    # Validation\n",
        "    model.eval()\n",
        "    loss = 0\n",
        "    with torch.no_grad():\n",
        "        for X_batch, y_batch in loader:\n",
        "            y_pred = model(X_batch.to(device))\n",
        "            loss += loss_fn(y_pred, y_batch.to(device))\n",
        "        if loss < best_loss:\n",
        "            best_loss = loss\n",
        "            best_model = model.state_dict()\n",
        "        print(\"Epoch %d: Cross-entropy: %.4f\" % (epoch, loss))\n",
        "\n",
        "torch.save([best_model, char_to_int], \"single-char.pth\")\n",
        "\n",
        "# Generation using the trained model\n",
        "best_model, char_to_int = torch.load(\"single-char.pth\")\n",
        "n_vocab = len(char_to_int)\n",
        "int_to_char = dict((i, c) for c, i in char_to_int.items())\n",
        "model.load_state_dict(best_model)\n",
        "\n"
      ]
    },
    {
      "cell_type": "code",
      "source": [
        "# randomly generate a prompt\n",
        "# filename = \"wonderland.txt\"\n",
        "# seq_length = 100\n",
        "# raw_text = open(filename, 'r', encoding='utf-8').read()\n",
        "# raw_text = raw_text.lower()\n",
        "start = np.random.randint(0, len(raw_text)-seq_length)\n",
        "prompt = raw_text[start:start+seq_length]\n",
        "pattern = [char_to_int[c] for c in prompt]\n",
        "\n",
        "model.eval()\n",
        "print('Prompt: \"%s\"' % prompt)\n",
        "with torch.no_grad():\n",
        "    for i in range(1000):\n",
        "        # format input array of int into PyTorch tensor\n",
        "        x = np.reshape(pattern, (1, len(pattern), 1)) / float(n_vocab)\n",
        "        x = torch.tensor(x, dtype=torch.float32)\n",
        "        # generate logits as output from the model\n",
        "        prediction = model(x.to(device))\n",
        "        # convert logits into one character\n",
        "        index = int(prediction.argmax())\n",
        "        # print(index)\n",
        "        result = int_to_char[index]\n",
        "\n",
        "        print(result, end=\"\")\n",
        "        # append the new character into the prompt for the next iteration\n",
        "        pattern.append(index)\n",
        "        pattern = pattern[1:]\n",
        "print()\n",
        "print(\"Done.\")"
      ],
      "metadata": {
        "colab": {
          "base_uri": "https://localhost:8080/"
        },
        "id": "_suikL1WU1rM",
        "outputId": "22c5a863-daac-4700-e640-4b237246bf61"
      },
      "execution_count": 6,
      "outputs": [
        {
          "output_type": "stream",
          "name": "stdout",
          "text": [
            "Prompt: \"eam of wonderland of long ago: and how she\n",
            "would feel with all their simple sorrows, and find a plea\"\n",
            "ser to the teiesce. \n",
            "“what _ serpent!” said the mock turtle.\n",
            "\n",
            "“wes, i thall say the thing ” said the mock turtle.\n",
            "\n",
            "“wes, i thall say the thing ” said the mock turtle.\n",
            "\n",
            "“wes, i’ll seter sareer the sea,” said the mock turtle.\n",
            "\n",
            "“wes, i thall say the thing ” said the mock turtle. \n",
            "“wes, i thall say the thing ” said the mock turtle.\n",
            "\n",
            "“wes, i’ll seter sareer the sea,” said the mock turtle.\n",
            "\n",
            "“wes, i thall say the thing ” said the mock turtle. \n",
            "“wes, i thall say the thing ” said the mock turtle.\n",
            "\n",
            "“wes, i’ll seter sareer the sea,” said the mock turtle.\n",
            "\n",
            "“wes, i thall say the thing ” said the mock turtle. \n",
            "“wes, i thall say the thing ” said the mock turtle.\n",
            "\n",
            "“wes, i’ll seter sareer the sea,” said the mock turtle.\n",
            "\n",
            "“wes, i thall say the thing ” said the mock turtle. \n",
            "“wes, i thall say the thing ” said the mock turtle.\n",
            "\n",
            "“wes, i’ll seter sareer the sea,” said the mock turtle.\n",
            "\n",
            "“wes, i thall say the thing ” said the mock turtle. \n",
            "“wes, i thall say the thing ” said the mock turtle.\n",
            "\n",
            "“wes, i’ll seter \n",
            "Done.\n"
          ]
        }
      ]
    },
    {
      "cell_type": "code",
      "source": [
        "! wget https://www.gutenberg.org/cache/epub/11/pg11.txt"
      ],
      "metadata": {
        "colab": {
          "base_uri": "https://localhost:8080/"
        },
        "id": "eghvy0RTIjRh",
        "outputId": "3a42c9be-00b1-4a36-ddc5-e50ee7908313"
      },
      "execution_count": null,
      "outputs": [
        {
          "output_type": "stream",
          "name": "stdout",
          "text": [
            "--2023-08-24 01:23:08--  https://www.gutenberg.org/cache/epub/11/pg11.txt\n",
            "Resolving www.gutenberg.org (www.gutenberg.org)... 152.19.134.47, 2610:28:3090:3000:0:bad:cafe:47\n",
            "Connecting to www.gutenberg.org (www.gutenberg.org)|152.19.134.47|:443... connected.\n",
            "HTTP request sent, awaiting response... 200 OK\n",
            "Length: 174580 (170K) [text/plain]\n",
            "Saving to: ‘pg11.txt’\n",
            "\n",
            "\rpg11.txt              0%[                    ]       0  --.-KB/s               \rpg11.txt            100%[===================>] 170.49K  --.-KB/s    in 0.07s   \n",
            "\n",
            "2023-08-24 01:23:09 (2.31 MB/s) - ‘pg11.txt’ saved [174580/174580]\n",
            "\n"
          ]
        }
      ]
    },
    {
      "cell_type": "markdown",
      "source": [],
      "metadata": {
        "id": "rMFWX5K9IxMG"
      }
    }
  ]
}