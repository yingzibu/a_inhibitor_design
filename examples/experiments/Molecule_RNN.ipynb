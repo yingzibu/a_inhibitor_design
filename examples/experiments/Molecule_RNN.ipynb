{
  "nbformat": 4,
  "nbformat_minor": 0,
  "metadata": {
    "colab": {
      "provenance": [],
      "machine_shape": "hm",
      "gpuType": "T4",
      "authorship_tag": "ABX9TyNkBAh7vheCEgPP92TsuvRm",
      "include_colab_link": true
    },
    "kernelspec": {
      "name": "python3",
      "display_name": "Python 3"
    },
    "language_info": {
      "name": "python"
    },
    "accelerator": "GPU"
  },
  "cells": [
    {
      "cell_type": "markdown",
      "metadata": {
        "id": "view-in-github",
        "colab_type": "text"
      },
      "source": [
        "<a href=\"https://colab.research.google.com/github/yingzibu/a_inhibitor_design/blob/main/experiment/Molecule_RNN.ipynb\" target=\"_parent\"><img src=\"https://colab.research.google.com/assets/colab-badge.svg\" alt=\"Open In Colab\"/></a>"
      ]
    },
    {
      "cell_type": "markdown",
      "source": [
        "# Molecule RNN\n",
        "\n",
        "https://github.com/shiwentao00/Molecule-RNN/tree/main\n",
        "\n",
        "\n",
        "https://github.com/Khamies/LSTM-Variational-AutoEncoder/blob/main/model.py\n"
      ],
      "metadata": {
        "id": "5bgSpfCM7zlg"
      }
    },
    {
      "cell_type": "code",
      "execution_count": 1,
      "metadata": {
        "id": "J4kAqFn46jpy"
      },
      "outputs": [],
      "source": [
        "! git clone https://github.com/shiwentao00/Molecule-RNN.git --quiet"
      ]
    },
    {
      "cell_type": "code",
      "source": [
        "cd Molecule-RNN"
      ],
      "metadata": {
        "colab": {
          "base_uri": "https://localhost:8080/"
        },
        "id": "JKlXwatY8Ocs",
        "outputId": "e21bce7b-75ae-4c1d-dc63-936fe983c7c5"
      },
      "execution_count": 2,
      "outputs": [
        {
          "output_type": "stream",
          "name": "stdout",
          "text": [
            "/content/Molecule-RNN\n"
          ]
        }
      ]
    },
    {
      "cell_type": "code",
      "source": [
        "! pip install rdkit --quiet\n",
        "! pip install selfies --quiet"
      ],
      "metadata": {
        "colab": {
          "base_uri": "https://localhost:8080/"
        },
        "id": "TOJ6Z5QI8Rjc",
        "outputId": "ebd10269-cab8-48ee-ae16-dfb3732ae1e2"
      },
      "execution_count": 3,
      "outputs": [
        {
          "output_type": "stream",
          "name": "stdout",
          "text": [
            "\u001b[2K     \u001b[90m━━━━━━━━━━━━━━━━━━━━━━━━━━━━━━━━━━━━━━━━\u001b[0m \u001b[32m29.7/29.7 MB\u001b[0m \u001b[31m41.1 MB/s\u001b[0m eta \u001b[36m0:00:00\u001b[0m\n",
            "\u001b[?25h"
          ]
        }
      ]
    },
    {
      "cell_type": "code",
      "source": [
        "!python train.py"
      ],
      "metadata": {
        "colab": {
          "base_uri": "https://localhost:8080/"
        },
        "id": "TT2Knm3L78DZ",
        "outputId": "e7f18fde-78c1-4b02-9862-bbbc83e82257"
      },
      "execution_count": null,
      "outputs": [
        {
          "output_type": "stream",
          "name": "stdout",
          "text": [
            "device:  cuda\n",
            "number of workers to load data:  8\n",
            "which vocabulary to use:  selfies\n",
            "total number of SMILES loaded:  538247\n",
            "100% 538247/538247 [09:44<00:00, 921.11it/s]\n",
            "total number of valid SELFIES:  538247\n",
            "begin training...\n",
            "100% 1052/1052 [04:14<00:00,  4.13it/s]\n",
            "epoch 1, train loss: 52.401732006612725.\n",
            "100% 1024/1024 [00:00<00:00, 2968.40it/s]\n",
            "valid rate: 1.0\n",
            "model saved at epoch 1\n",
            "100% 1052/1052 [04:26<00:00,  3.95it/s]\n",
            "epoch 2, train loss: 38.430701590286965.\n",
            "100% 1024/1024 [00:00<00:00, 2659.49it/s]\n",
            "valid rate: 1.0\n",
            "model saved at epoch 2\n",
            "100% 1052/1052 [04:28<00:00,  3.93it/s]\n",
            "epoch 3, train loss: 34.74931865766321.\n",
            "100% 1024/1024 [00:00<00:00, 2778.66it/s]\n",
            "valid rate: 1.0\n",
            "model saved at epoch 3\n",
            "100% 1052/1052 [04:27<00:00,  3.93it/s]\n",
            "epoch 4, train loss: 32.61708239398353.\n",
            "100% 1024/1024 [00:00<00:00, 2617.56it/s]\n",
            "valid rate: 1.0\n",
            "model saved at epoch 4\n",
            "100% 1052/1052 [04:27<00:00,  3.94it/s]\n",
            "epoch 5, train loss: 31.199521422560473.\n",
            "100% 1024/1024 [00:00<00:00, 2779.23it/s]\n",
            "valid rate: 1.0\n",
            "model saved at epoch 5\n",
            " 19% 195/1052 [00:49<03:38,  3.93it/s]"
          ]
        }
      ]
    },
    {
      "cell_type": "code",
      "source": [],
      "metadata": {
        "id": "0Gkr_8Si8NK1"
      },
      "execution_count": null,
      "outputs": []
    }
  ]
}
